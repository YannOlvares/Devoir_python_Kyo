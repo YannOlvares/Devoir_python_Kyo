{
 "cells": [
  {
   "cell_type": "code",
   "execution_count": 3,
   "id": "271fee9d-ecfa-4832-9e68-a001d2571c90",
   "metadata": {},
   "outputs": [
    {
     "name": "stdin",
     "output_type": "stream",
     "text": [
      "Entrez le nombre de jours dans le mois (28-31) :  29\n",
      "Entrez le numéro du jour démarrant le mois (1 pour lundi, ..., 7 pour dimanche) :  5\n"
     ]
    },
    {
     "name": "stdout",
     "output_type": "stream",
     "text": [
      "LUN MAR MER JEU VEN SAM DIM\n",
      "                  1   2   3 \n",
      "  4   5   6   7   8   9  10 \n",
      " 11  12  13  14  15  16  17 \n",
      " 18  19  20  21  22  23  24 \n",
      " 25  26  27  28  29 "
     ]
    }
   ],
   "source": [
    "nb_jours = int(input(\"Entrez le nombre de jours dans le mois (28-31) : \"))\n",
    "\n",
    "if nb_jours < 28 or nb_jours > 31:\n",
    "    print(\"Erreur : veuillez entrer un nombre de jours entre 28 et 31.\")\n",
    "else:\n",
    "    premier_jour = int(input(\"Entrez le numéro du jour démarrant le mois (1 pour lundi, ..., 7 pour dimanche) : \"))\n",
    "\n",
    "    print(\"LUN MAR MER JEU VEN SAM DIM\")\n",
    "\n",
    "    for i in range(1, premier_jour):\n",
    "        print(\"    \", end=\"\")\n",
    "\n",
    "    jour = 1\n",
    "    compteur_jour = premier_jour\n",
    "\n",
    "    while jour <= nb_jours:\n",
    "        print(f\"{jour:3d}\", end=\" \")\n",
    "\n",
    "        if compteur_jour % 7 == 0:\n",
    "            print()\n",
    "\n",
    "        jour += 1\n",
    "        compteur_jour += 1\n"
   ]
  },
  {
   "cell_type": "code",
   "execution_count": null,
   "id": "d14ccff8-8c90-4570-af4f-7b4202a411d4",
   "metadata": {},
   "outputs": [],
   "source": []
  }
 ],
 "metadata": {
  "kernelspec": {
   "display_name": "Python 3 (ipykernel)",
   "language": "python",
   "name": "python3"
  },
  "language_info": {
   "codemirror_mode": {
    "name": "ipython",
    "version": 3
   },
   "file_extension": ".py",
   "mimetype": "text/x-python",
   "name": "python",
   "nbconvert_exporter": "python",
   "pygments_lexer": "ipython3",
   "version": "3.12.4"
  }
 },
 "nbformat": 4,
 "nbformat_minor": 5
}
