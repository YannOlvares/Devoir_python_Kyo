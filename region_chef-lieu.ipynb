{
 "cells": [
  {
   "cell_type": "code",
   "execution_count": 4,
   "id": "88a3aff6-57ec-4bc9-b270-813701d5180f",
   "metadata": {},
   "outputs": [
    {
     "name": "stdout",
     "output_type": "stream",
     "text": [
      "Bienvenue au quiz sur les régions de la Côte d'Ivoire !\n",
      "\n",
      "--- Meilleurs Scores ---\n",
      "1. Alice: 8 points\n",
      "2. Bob: 7 points\n",
      "3. Charlie: 6 points\n",
      "4. Diane: 5 points\n",
      "5. Eve: 4 points\n",
      "------------------------\n",
      "\n"
     ]
    },
    {
     "name": "stdin",
     "output_type": "stream",
     "text": [
      "Entrez votre nom :  yann\n"
     ]
    },
    {
     "name": "stdout",
     "output_type": "stream",
     "text": [
      "\n",
      "Partie commencée ! Répondez aux questions suivantes :\n",
      "\n",
      "Question 1: Quel est le chef-lieu de la région 'Lôh-Djiboua' ?\n"
     ]
    },
    {
     "name": "stdin",
     "output_type": "stream",
     "text": [
      "Votre réponse :  Divo\n"
     ]
    },
    {
     "name": "stdout",
     "output_type": "stream",
     "text": [
      "Bonne réponse !\n",
      "\n",
      "Question 2: Quel est le chef-lieu de la région 'Gbôklè' ?\n"
     ]
    },
    {
     "name": "stdin",
     "output_type": "stream",
     "text": [
      "Votre réponse :  sassandra\n"
     ]
    },
    {
     "name": "stdout",
     "output_type": "stream",
     "text": [
      "Bonne réponse !\n",
      "\n",
      "Question 3: Quel est le chef-lieu de la région 'Poro' ?\n"
     ]
    },
    {
     "name": "stdin",
     "output_type": "stream",
     "text": [
      "Votre réponse :  korhogo\n"
     ]
    },
    {
     "name": "stdout",
     "output_type": "stream",
     "text": [
      "Bonne réponse !\n",
      "\n",
      "Question 4: Quel est le chef-lieu de la région 'Tonkpi' ?\n"
     ]
    },
    {
     "name": "stdin",
     "output_type": "stream",
     "text": [
      "Votre réponse :  man\n"
     ]
    },
    {
     "name": "stdout",
     "output_type": "stream",
     "text": [
      "Bonne réponse !\n",
      "\n",
      "Question 5: Quel est le chef-lieu de la région 'La Mé' ?\n"
     ]
    },
    {
     "name": "stdin",
     "output_type": "stream",
     "text": [
      "Votre réponse :  adzopé\n"
     ]
    },
    {
     "name": "stdout",
     "output_type": "stream",
     "text": [
      "Bonne réponse !\n",
      "\n",
      "Question 6: Quel est le chef-lieu de la région 'Bafing' ?\n"
     ]
    },
    {
     "name": "stdin",
     "output_type": "stream",
     "text": [
      "Votre réponse :  touba\n"
     ]
    },
    {
     "name": "stdout",
     "output_type": "stream",
     "text": [
      "Bonne réponse !\n",
      "\n",
      "Question 7: Quel est le chef-lieu de la région 'Grands-Ponts' ?\n"
     ]
    },
    {
     "name": "stdin",
     "output_type": "stream",
     "text": [
      "Votre réponse :  test\n"
     ]
    },
    {
     "name": "stdout",
     "output_type": "stream",
     "text": [
      "Mauvaise réponse. La bonne réponse est : Dabou\n",
      "\n",
      "Question 8: Quel est le chef-lieu de la région 'Gbêkê' ?\n"
     ]
    },
    {
     "name": "stdin",
     "output_type": "stream",
     "text": [
      "Votre réponse :  test\n"
     ]
    },
    {
     "name": "stdout",
     "output_type": "stream",
     "text": [
      "Mauvaise réponse. La bonne réponse est : Bouaké\n",
      "\n",
      "Question 9: Quel est le chef-lieu de la région 'Nawa' ?\n"
     ]
    },
    {
     "name": "stdin",
     "output_type": "stream",
     "text": [
      "Votre réponse :  test\n"
     ]
    },
    {
     "name": "stdout",
     "output_type": "stream",
     "text": [
      "Mauvaise réponse. La bonne réponse est : Soubré\n",
      "\n",
      "Question 10: Quel est le chef-lieu de la région 'Marahoué' ?\n"
     ]
    },
    {
     "name": "stdin",
     "output_type": "stream",
     "text": [
      "Votre réponse :  test\n"
     ]
    },
    {
     "name": "stdout",
     "output_type": "stream",
     "text": [
      "Mauvaise réponse. La bonne réponse est : Bouaflé\n",
      "\n",
      "\n",
      "Partie terminée, yann ! Votre score est : 6/10.\n",
      "\n",
      "Tableau des scores mis à jour :\n",
      "\n",
      "--- Meilleurs Scores ---\n",
      "1. Alice: 8 points\n",
      "2. Bob: 7 points\n",
      "3. Charlie: 6 points\n",
      "4. yann: 6 points\n",
      "5. Diane: 5 points\n",
      "------------------------\n",
      "\n"
     ]
    }
   ],
   "source": [
    "import random\n",
    "\n",
    "# Données des régions et chef-lieux\n",
    "regions = {\n",
    "    \"Agnéby-Tiassa\": \"Agboville\",\n",
    "    \"Bafing\": \"Touba\",\n",
    "    \"Bagoué\": \"Boundiali\",\n",
    "    \"Bélier\": \"Yamoussoukro\",\n",
    "    \"Bere\": \"Mankono\",\n",
    "    \"Bounkani\": \"Bouna\",\n",
    "    \"Cavally\": \"Guiglo\",\n",
    "    \"Folon\": \"Minignan\",\n",
    "    \"Gbêkê\": \"Bouaké\",\n",
    "    \"Gbôklè\": \"Sassandra\",\n",
    "    \"Gôh\": \"Gagnoa\",\n",
    "    \"Gontougo\": \"Bondoukou\",\n",
    "    \"Grands-Ponts\": \"Dabou\",\n",
    "    \"Guémon\": \"Duékoué\",\n",
    "    \"Hambol\": \"Katiola\",\n",
    "    \"Haut-Sassandra\": \"Daloa\",\n",
    "    \"Iffou\": \"Daoukro\",\n",
    "    \"Indénié-Djuablin\": \"Abengourou\",\n",
    "    \"Kabadougou\": \"Odienné\",\n",
    "    \"La Mé\": \"Adzopé\",\n",
    "    \"Lôh-Djiboua\": \"Divo\",\n",
    "    \"Marahoué\": \"Bouaflé\",\n",
    "    \"Moronou\": \"Bongouanou\",\n",
    "    \"Nawa\": \"Soubré\",\n",
    "    \"N’zi\": \"Dimbokro\",\n",
    "    \"Poro\": \"Korhogo\",\n",
    "    \"San-Pédro\": \"San-Pédro\",\n",
    "    \"Sud-Comoé\": \"Aboisso\",\n",
    "    \"Tchologo\": \"Ferkessédougou\",\n",
    "    \"Tonkpi\": \"Man\",\n",
    "    \"Worodougou\": \"Séguéla\"\n",
    "}\n",
    "\n",
    "# Meilleurs scores (fictifs pour initialiser)\n",
    "top_scores = [(\"user\", 8), (\"user2\", 7), (\"user3\", 6), (\"user4\", 5), (\"user5\", 4)]\n",
    "\n",
    "\n",
    "def afficher_meilleurs_scores():\n",
    "    print(\"\\n--- Meilleurs Scores ---\")\n",
    "    for i, (nom, score) in enumerate(top_scores, 1):\n",
    "        print(f\"{i}. {nom}: {score} points\")\n",
    "    print(\"------------------------\\n\")\n",
    "\n",
    "\n",
    "def poser_questions():\n",
    "    questions = random.sample(list(regions.items()), 10)\n",
    "    score = 0\n",
    "    index = 1 \n",
    "\n",
    "    for region, chef_lieu in questions:\n",
    "        print(f\"Question {index}: Quel est le chef-lieu de la région '{region}' ?\")\n",
    "        reponse = input(\"Votre réponse : \").strip()\n",
    "\n",
    "        if reponse.lower() == chef_lieu.lower():\n",
    "            print(\"Bonne réponse !\")\n",
    "            score += 1\n",
    "        else:\n",
    "            print(f\"Mauvaise réponse. La bonne réponse est : {chef_lieu}\")\n",
    "        print()\n",
    "        index += 1  # Incrémentation de l'index\n",
    "\n",
    "    return score\n",
    "\n",
    "\n",
    "def mise_a_jour_meilleurs_scores(nom, score):\n",
    "    top_scores.append((nom, score))\n",
    "    top_scores.sort(key=lambda x: x[1], reverse=True)  \n",
    "    del top_scores[5:] \n",
    "\n",
    "\n",
    "def jouer():\n",
    "    print(\"Bienvenue au quiz sur les régions de la Côte d'Ivoire !\")\n",
    "    afficher_meilleurs_scores()\n",
    "\n",
    "    nom_joueur = input(\"Entrez votre nom : \").strip()\n",
    "    print(\"\\nPartie commencée ! Répondez aux questions suivantes :\\n\")\n",
    "\n",
    "    score = poser_questions()\n",
    "    print(f\"\\nPartie terminée, {nom_joueur} ! Votre score est : {score}/10.\\n\")\n",
    "\n",
    "    mise_a_jour_meilleurs_scores(nom_joueur, score)\n",
    "    print(\"Tableau des scores mis à jour :\")\n",
    "    afficher_meilleurs_scores()\n",
    "\n",
    "\n",
    "if __name__ == \"__main__\":\n",
    "    jouer()\n"
   ]
  },
  {
   "cell_type": "code",
   "execution_count": null,
   "id": "dd6142d6-95d5-42e5-a1ca-a059d62faa11",
   "metadata": {},
   "outputs": [],
   "source": []
  }
 ],
 "metadata": {
  "kernelspec": {
   "display_name": "Python 3 (ipykernel)",
   "language": "python",
   "name": "python3"
  },
  "language_info": {
   "codemirror_mode": {
    "name": "ipython",
    "version": 3
   },
   "file_extension": ".py",
   "mimetype": "text/x-python",
   "name": "python",
   "nbconvert_exporter": "python",
   "pygments_lexer": "ipython3",
   "version": "3.12.4"
  }
 },
 "nbformat": 4,
 "nbformat_minor": 5
}
